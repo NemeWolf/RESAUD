{
 "cells": [
  {
   "cell_type": "code",
   "execution_count": 1,
   "metadata": {},
   "outputs": [],
   "source": [
    "from report_model import ReportClass\n",
    "import openai\n",
    "from utils import openai_api_calculate_cost"
   ]
  },
  {
   "cell_type": "code",
   "execution_count": 2,
   "metadata": {},
   "outputs": [],
   "source": [
    "### instancio el modelo"
   ]
  },
  {
   "cell_type": "code",
   "execution_count": 3,
   "metadata": {},
   "outputs": [],
   "source": [
    "my_model_instance = ReportClass()"
   ]
  },
  {
   "cell_type": "code",
   "execution_count": 4,
   "metadata": {},
   "outputs": [],
   "source": [
    "### Cargamos texto y prompt"
   ]
  },
  {
   "cell_type": "code",
   "execution_count": 5,
   "metadata": {},
   "outputs": [],
   "source": [
    "texto  = my_model_instance.read_data(\"transcripcion.txt\")"
   ]
  },
  {
   "cell_type": "code",
   "execution_count": 6,
   "metadata": {},
   "outputs": [],
   "source": [
    "prompt = \"Your task is to synthesize a comprehensive report based on transcribed text from a university lecture giving in Spanish. Your report should distill the core subject matter, enumerate the key concepts discussed, and catalog noteworthy comments made during the session.\""
   ]
  },
  {
   "cell_type": "code",
   "execution_count": 7,
   "metadata": {},
   "outputs": [],
   "source": [
    "### calculamos cuanto va a salir"
   ]
  },
  {
   "cell_type": "code",
   "execution_count": 8,
   "metadata": {},
   "outputs": [
    {
     "name": "stdout",
     "output_type": "stream",
     "text": [
      "1564\n"
     ]
    }
   ],
   "source": [
    "text_tokens = my_model_instance.num_tokens_from_string(texto)\n",
    "print(text_tokens)"
   ]
  },
  {
   "cell_type": "code",
   "execution_count": 11,
   "metadata": {},
   "outputs": [
    {
     "name": "stdout",
     "output_type": "stream",
     "text": [
      "47\n"
     ]
    }
   ],
   "source": [
    "prompt_tokens = my_model_instance.num_tokens_from_string(prompt)\n",
    "print(prompt_tokens)"
   ]
  },
  {
   "cell_type": "code",
   "execution_count": 20,
   "metadata": {},
   "outputs": [
    {
     "ename": "SyntaxError",
     "evalue": "':' expected after dictionary key (1305115866.py, line 1)",
     "output_type": "error",
     "traceback": [
      "\u001b[0;36m  Cell \u001b[0;32mIn[20], line 1\u001b[0;36m\u001b[0m\n\u001b[0;31m    total_tokens = {\"prompt_tokens\": prompt_tokens, \"completion_tokens\": text_tokens, \"total_tokens\" =prompt_tokens+ text_tokens }\u001b[0m\n\u001b[0m                                                                                                   ^\u001b[0m\n\u001b[0;31mSyntaxError\u001b[0m\u001b[0;31m:\u001b[0m ':' expected after dictionary key\n"
     ]
    }
   ],
   "source": [
    "total_tokens = {\"prompt_tokens\": prompt_tokens, \"completion_tokens\": text_tokens, \"total_tokens\" = prompt_tokens+ text_tokens }"
   ]
  },
  {
   "cell_type": "code",
   "execution_count": 18,
   "metadata": {},
   "outputs": [
    {
     "ename": "KeyError",
     "evalue": "'total_tokens'",
     "output_type": "error",
     "traceback": [
      "\u001b[0;31m---------------------------------------------------------------------------\u001b[0m",
      "\u001b[0;31mKeyError\u001b[0m                                  Traceback (most recent call last)",
      "Cell \u001b[0;32mIn[18], line 1\u001b[0m\n\u001b[0;32m----> 1\u001b[0m \u001b[43mopenai_api_calculate_cost\u001b[49m\u001b[43m(\u001b[49m\u001b[43mtotal_tokens\u001b[49m\u001b[43m)\u001b[49m\n",
      "File \u001b[0;32m~/Documents/projects/test_poetry/my-proyect-virtual-env/utils.py:34\u001b[0m, in \u001b[0;36mopenai_api_calculate_cost\u001b[0;34m(usage, model)\u001b[0m\n\u001b[1;32m     31\u001b[0m completion_cost \u001b[38;5;241m=\u001b[39m usage[\u001b[38;5;124m'\u001b[39m\u001b[38;5;124mcompletion_tokens\u001b[39m\u001b[38;5;124m'\u001b[39m] \u001b[38;5;241m*\u001b[39m model_pricing[\u001b[38;5;124m'\u001b[39m\u001b[38;5;124mcompletion\u001b[39m\u001b[38;5;124m'\u001b[39m] \u001b[38;5;241m/\u001b[39m \u001b[38;5;241m1000\u001b[39m\n\u001b[1;32m     33\u001b[0m total_cost \u001b[38;5;241m=\u001b[39m prompt_cost \u001b[38;5;241m+\u001b[39m completion_cost\n\u001b[0;32m---> 34\u001b[0m \u001b[38;5;28mprint\u001b[39m(\u001b[38;5;124mf\u001b[39m\u001b[38;5;124m\"\u001b[39m\u001b[38;5;130;01m\\n\u001b[39;00m\u001b[38;5;124mTokens used:  \u001b[39m\u001b[38;5;132;01m{\u001b[39;00musage[\u001b[38;5;124m'\u001b[39m\u001b[38;5;124mprompt_tokens\u001b[39m\u001b[38;5;124m'\u001b[39m]\u001b[38;5;132;01m:\u001b[39;00m\u001b[38;5;124m,\u001b[39m\u001b[38;5;132;01m}\u001b[39;00m\u001b[38;5;124m prompt + \u001b[39m\u001b[38;5;132;01m{\u001b[39;00musage[\u001b[38;5;124m'\u001b[39m\u001b[38;5;124mcompletion_tokens\u001b[39m\u001b[38;5;124m'\u001b[39m]\u001b[38;5;132;01m:\u001b[39;00m\u001b[38;5;124m,\u001b[39m\u001b[38;5;132;01m}\u001b[39;00m\u001b[38;5;124m completion = \u001b[39m\u001b[38;5;132;01m{\u001b[39;00m\u001b[43musage\u001b[49m\u001b[43m[\u001b[49m\u001b[38;5;124;43m'\u001b[39;49m\u001b[38;5;124;43mtotal_tokens\u001b[39;49m\u001b[38;5;124;43m'\u001b[39;49m\u001b[43m]\u001b[49m\u001b[38;5;132;01m:\u001b[39;00m\u001b[38;5;124m,\u001b[39m\u001b[38;5;132;01m}\u001b[39;00m\u001b[38;5;124m tokens\u001b[39m\u001b[38;5;124m\"\u001b[39m)\n\u001b[1;32m     35\u001b[0m \u001b[38;5;28mprint\u001b[39m(\u001b[38;5;124mf\u001b[39m\u001b[38;5;124m\"\u001b[39m\u001b[38;5;124mTotal cost for \u001b[39m\u001b[38;5;132;01m{\u001b[39;00mmodel\u001b[38;5;132;01m}\u001b[39;00m\u001b[38;5;124m: $\u001b[39m\u001b[38;5;132;01m{\u001b[39;00mtotal_cost\u001b[38;5;132;01m:\u001b[39;00m\u001b[38;5;124m.4f\u001b[39m\u001b[38;5;132;01m}\u001b[39;00m\u001b[38;5;130;01m\\n\u001b[39;00m\u001b[38;5;124m\"\u001b[39m)\n\u001b[1;32m     37\u001b[0m \u001b[38;5;28;01mreturn\u001b[39;00m total_cost\n",
      "\u001b[0;31mKeyError\u001b[0m: 'total_tokens'"
     ]
    }
   ],
   "source": [
    "openai_api_calculate_cost(total_tokens)"
   ]
  },
  {
   "cell_type": "code",
   "execution_count": null,
   "metadata": {},
   "outputs": [],
   "source": [
    "### Llamamos al modelo"
   ]
  },
  {
   "cell_type": "code",
   "execution_count": 5,
   "metadata": {},
   "outputs": [
    {
     "data": {
      "text/plain": [
       "['ALL PARTS SENT.\\n\\nComprehensive Report: Introduction to Linear Algebra\\n\\nThe lecture began with a warm welcome to the first session of the Linear Algebra class. The instructor emphasized the importance of understanding this fundamental field of mathematics. Linear Algebra explores the mysteries of vectors, matrices, determinants, vector spaces, and more, and how these concepts are interconnected. These ideas form the foundation of modern mathematical thinking.\\n\\nThe lecture defined Linear Algebra as the study of vectors, vector spaces, and linear transformations. It highlighted how this powerful language enables the description and solution of complex operations in multiple dimensions. In addition to being a cornerstone in mathematics, Linear Algebra has practical applications in various fields such as physics, statistics, engineering, economics, and computer science.\\n\\nThe lecture then focused on vectors and their operations. Vectors were introduced as arrows in space that have direction and magnitude. The instructor explained that vectors are not only fundamental in mathematics but also prevalent in real-life applications, ranging from representing forces in physics to displacements in robotics. The lecture covered topics such as vector addition, subtraction, scalar multiplication, vector length, and the concept of unit vectors.\\n\\nNext, the lecture delved into matrices and their connection to systems of linear equations. Matrices were described as rectangular arrays of numbers that can represent systems of linear equations. The lecture introduced solving these systems using methods like Gaussian elimination and discussed the power of matrix inversion.\\n\\nDuring the lecture, there were some student inquiries regarding the comparison of vectors with arrows. The professor clarified that using arrows was simply an illustrative representation to visualize vectors as entities with length, direction, and sense.\\n\\nDeterminants were briefly introduced as numerical values that provide information about matrices. An example was given that if a determinant is zero, it indicates that the associated system of equations has no unique solution.\\n\\nIn conclusion, the lecture highlighted that this was just the beginning of an exciting and challenging intellectual journey. The course aims to equip students with the necessary tools to comprehend and perform complex operations crucial in advanced fields of study and practical applications across various industries.\\n\\nThe instructor encouraged active involvement from students and emphasized utilizing the provided resources throughout the course. The topic of matrices was introduced in the subsequent lecture, covering their definition, basic properties, types, operations, the identity matrix, matrix inversion, determinants, invertibility, and applications.\\n\\nIn summary, the lecture provided an introduction to Linear Algebra, focusing on vectors, matrices, and their operations. These foundational concepts were presented alongside their practical applications. Students were encouraged to engage, ask questions, and make the most of available resources. The lecture concluded with a reminder to prepare for the next class by reading the corresponding chapter on matrices and completing the proposed exercises.\\n\\nNote: The transcribed text may contain some errors in punctuation and spelling.',\n",
       " 'Reporte de la Clase de Álgebra Lineal\\n\\nResumen:\\nEl informe se basa en una transcripción de una sesión universitaria de Álgebra Lineal en español. Durante la clase, se introdujeron conceptos fundamentales como vectores, matrices, determinantes y sistemas de ecuaciones lineales. También se mencionaron aplicaciones prácticas de estos conceptos en diversas disciplinas. El profesor animó a los estudiantes a participar activamente y aprovechar los recursos proporcionados para el curso.\\n\\nConceptos clave:\\n1. Álgebra Lineal: Estudio de vectores, espacios vectoriales y transformaciones lineales. Es un lenguaje poderoso para describir y resolver operaciones complejas en múltiples dimensiones. Tiene aplicaciones en diversos campos como física, estadística, ingeniería, economía e informática.\\n\\n2. Vectores: Flechas en el espacio con dirección y magnitud. Representan fuerzas y desplazamientos en diversas disciplinas. Se aprendió cómo sumar, restar y multiplicar vectores por escalares, así como la importancia de conceptos como la longitud o norma de un vector y los vectores unitarios.\\n\\n3. Matrices: Tabla rectangular de números que puede representar sistemas de ecuaciones lineales. Se estudiaron los tipos de matrices, como cuadradas, rectangulares, diagonales y escalonadas. También se exploraron operaciones con matrices, como suma, resta y multiplicación. Se hizo énfasis en la importancia del orden de multiplicación y se mencionó la matriz identidad y la inversa.\\n\\n4. Determinantes: Números que proporcionan información sobre una matriz. Se mencionó que un determinante igual a cero indica que el sistema de ecuaciones asociado no tiene una solución única.\\n\\nComentarios destacados:\\n- El profesor explicó que los vectores pueden ser representados como flechas en un espacio para visualizar su longitud, dirección y sentido.\\n- Se animó a los estudiantes a hacer preguntas y a aprovechar los recursos disponibles.\\n- Se mencionaron diversas aplicaciones prácticas de los conceptos de álgebra lineal en ciencias e industrias.\\n- Se recomendó a los estudiantes leer el capítulo sobre matrices en el libro de texto y resolver los ejercicios propuestos.\\n\\nConclusiones:\\nLa clase de Álgebra Lineal proporcionó una introducción a los conceptos fundamentales de vectores, matrices, determinantes y sistemas de ecuaciones lineales. Estos conceptos son cruciales en diversas disciplinas y tienen aplicaciones prácticas en el mundo real. Los alumnos se animaron a participar activamente y se les proporcionaron recursos adicionales para ayudar en su aprendizaje. La sesión sentó las bases necesarias para futuros temas como el rango de una matriz, el teorema de la matriz invertible y las descomposiciones matriciales.\\n\\nSe recomienda a los estudiantes revisar el contenido de la clase, leer el capítulo correspondiente en su libro de texto y resolver los ejercicios propuestos para reforzar los conceptos aprendidos. Además, se les anima a acercarse al profesor en caso de tener dudas o necesitar aclaraciones adicionales.\\n\\nEn resumen, la clase de Álgebra Lineal fue un primer paso emocionante y desafiante en el estudio de fundamentos matemáticos clave, proporcionando las herramientas necesarias para comprender y realizar operaciones complejas en diversas áreas de estudio y aplicaciones prácticas en el mundo real.']"
      ]
     },
     "execution_count": 5,
     "metadata": {},
     "output_type": "execute_result"
    }
   ],
   "source": [
    "my_model_instance.send(prompt = prompt, text_data = texto)"
   ]
  },
  {
   "cell_type": "code",
   "execution_count": null,
   "metadata": {},
   "outputs": [],
   "source": []
  }
 ],
 "metadata": {
  "kernelspec": {
   "display_name": "Python 3 (ipykernel)",
   "language": "python",
   "name": "python3"
  },
  "language_info": {
   "codemirror_mode": {
    "name": "ipython",
    "version": 3
   },
   "file_extension": ".py",
   "mimetype": "text/x-python",
   "name": "python",
   "nbconvert_exporter": "python",
   "pygments_lexer": "ipython3",
   "version": "3.10.9"
  }
 },
 "nbformat": 4,
 "nbformat_minor": 4
}
